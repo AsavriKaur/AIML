{
  "nbformat": 4,
  "nbformat_minor": 0,
  "metadata": {
    "colab": {
      "provenance": [],
      "authorship_tag": "ABX9TyM5AgM/82M5U8SiVZ/f1M9s",
      "include_colab_link": true
    },
    "kernelspec": {
      "name": "python3",
      "display_name": "Python 3"
    },
    "language_info": {
      "name": "python"
    }
  },
  "cells": [
    {
      "cell_type": "markdown",
      "metadata": {
        "id": "view-in-github",
        "colab_type": "text"
      },
      "source": [
        "<a href=\"https://colab.research.google.com/github/AsavriKaur/AIML/blob/main/Copy_of_Python_basics.ipynb\" target=\"_parent\"><img src=\"https://colab.research.google.com/assets/colab-badge.svg\" alt=\"Open In Colab\"/></a>"
      ]
    },
    {
      "cell_type": "markdown",
      "source": [
        "Assignment q1\n",
        "L is a list defined as L= [11, 12, 13, 14].\n",
        "(i) WAP to add 50 and 60 to L. \n",
        "(ii) WAP to remove 11 and 13from L.\n",
        "(iii) WAP to sort L in ascending order.\n",
        "(iv) WAP to sort L in descending order.\n",
        "(v) WAP to search for 13 in L.\n",
        "(vi) WAP to count the number of elements present in L.\n",
        "(vii) WAP to sum all the elements in L.\n",
        "(viii) WAP to sum all ODD numbers in L.\n",
        "(ix) WAP to sum all EVEN numbers in L.\n",
        "(x) WAP to sum all PRIME numbers in L.\n",
        "(xi) WAP to clear all the elements in L.\n",
        "(xii) WAP to delete L."
      ],
      "metadata": {
        "id": "C9EMIKP_50Ht"
      }
    },
    {
      "cell_type": "code",
      "execution_count": null,
      "metadata": {
        "colab": {
          "base_uri": "https://localhost:8080/"
        },
        "id": "q9bNl1yM5ysC",
        "outputId": "c122174c-0969-47bf-8028-4a1737589d88"
      },
      "outputs": [
        {
          "output_type": "stream",
          "name": "stdout",
          "text": [
            "List --> [11, 12, 13, 14, 50, 60]\n",
            "List --> [12, 14, 50, 60]\n",
            "List --> [12, 14, 50, 60]\n",
            "List --> [60, 50, 14, 12]\n",
            "not present\n",
            "Elements in list--> 4\n",
            "Sum of elements --> 136\n",
            "Sum of EVEN elements --> 136\n",
            "Sum of ODD elements --> 0\n",
            "Sumprime is --> 0\n",
            "List is -->  []\n",
            "error\n"
          ]
        }
      ],
      "source": [
        "#(i)\n",
        "L=[11,12,13,14]\n",
        "L.append(50)\n",
        "L.append(60)\n",
        "print(\"List -->\",L)\n",
        "\n",
        "#(ii)\n",
        "del L[2]\n",
        "del L[0]\n",
        "print(\"List -->\",L)\n",
        "\n",
        "#(iii)\n",
        "L.sort()\n",
        "print(\"List -->\",L)\n",
        "\n",
        "#(iv)\n",
        "L.sort(reverse=True)\n",
        "print(\"List -->\",L)\n",
        "\n",
        "#(v)\n",
        "if(13 in L)==True: \n",
        "  print(\"present\")\n",
        "else:\n",
        "  print(\"not present\")\n",
        "\n",
        "#(vi)\n",
        "print(\"Elements in list-->\",len(L))\n",
        "\n",
        "#(vii)\n",
        "print(\"Sum of elements -->\",sum(L))\n",
        "\n",
        "#(viii)=0\n",
        "sumeven=0;\n",
        "for i in range(0, len(L)):\n",
        "  if(L[i] % 2 == 0):\n",
        "    sumeven=sumeven+L[i]\n",
        "\n",
        "print(\"Sum of EVEN elements -->\",sumeven)\n",
        "\n",
        "#(ix)\n",
        "sumodd=0;\n",
        "for i in range(0, len(L)):\n",
        "  if(L[i] % 2 != 0):\n",
        "    sumodd=sumodd+L[i]\n",
        "\n",
        "print(\"Sum of ODD elements -->\",sumodd)\n",
        "\n",
        "#(ix)\n",
        "\n",
        "\n",
        "def IsPrime(n):\n",
        "\tfor i in range(2, n//2 + 1):\n",
        "\t\tif n%i==0:\n",
        "\t\t\treturn 0\n",
        "\treturn 1\n",
        "\n",
        "sumPrime=0\n",
        "for j in L:\n",
        "  if IsPrime(j)==1:\n",
        "    print (IsPrime(j))\n",
        "    sumPrime=sumPrime+j\n",
        "    \n",
        "print(\"Sumprime is -->\", sumPrime)\n",
        "\n",
        "#xi)\n",
        "L.clear()\n",
        "print(\"List is --> \", L)\n",
        "\n",
        "#xii)\n",
        "del L\n",
        "try:\n",
        "  print(\"List is --> \", L)\n",
        "except:\n",
        "  print(\"error\")"
      ]
    },
    {
      "cell_type": "markdown",
      "source": [
        "2. D is a dictionary defined as D= {1:5.6, 2:7.8, 3:6.6, 4:8.7, 5:7.7}."
      ],
      "metadata": {
        "id": "OQhTdqZ6jBAm"
      }
    },
    {
      "cell_type": "code",
      "source": [
        "#(i)\n",
        "D= {1:5.6, 2:7.8, 3:6.6, 4:8.7, 5:7.7}\n",
        "D[8]=8.8\n",
        "print(\"After adding --> \",D)\n",
        "\n",
        "#(ii)\n",
        "del D[2]\n",
        "print(\"After deleting --> \",D)\n",
        "\n",
        "#(iii)\n",
        "print(\"Is 6 in D --> \",6 in D)\n",
        "\n",
        "#(iv)\n",
        "print(\"Number of elements in D --> \",len(D))\n",
        "\n",
        "#(v)\n",
        "print(\"Sum of elements --> \",sum(D))\n",
        "\n",
        "#(vi)\n",
        "D[3]=7.1\n",
        "print(\"After updating --> \",D)\n",
        "\n",
        "#(vii)\n",
        "D.clear()\n",
        "print(\"After clearing --> \",D)"
      ],
      "metadata": {
        "colab": {
          "base_uri": "https://localhost:8080/"
        },
        "id": "vokG_QIXjCmm",
        "outputId": "c13bf7df-b316-469b-b709-9fbaedde8918"
      },
      "execution_count": null,
      "outputs": [
        {
          "output_type": "stream",
          "name": "stdout",
          "text": [
            "After adding -->  {1: 5.6, 2: 7.8, 3: 6.6, 4: 8.7, 5: 7.7, 8: 8.8}\n",
            "After deleting -->  {1: 5.6, 3: 6.6, 4: 8.7, 5: 7.7, 8: 8.8}\n",
            "Is 6 in D -->  False\n",
            "Number of elements in D -->  5\n",
            "Sum of elements -->  21\n",
            "After updating -->  {1: 5.6, 3: 7.1, 4: 8.7, 5: 7.7, 8: 8.8}\n",
            "After clearing -->  {}\n"
          ]
        }
      ]
    },
    {
      "cell_type": "markdown",
      "source": [
        "S1 is a set defined as S1= [10, 20, 30, 40, 50, 60].\n",
        " S2 is a set defined as S2= [40, 50, 60, 70, 80, 90]."
      ],
      "metadata": {
        "id": "6kANP5bzk5_m"
      }
    },
    {
      "cell_type": "code",
      "source": [
        "S1=set([10, 20, 30, 40, 50, 60])\n",
        "S2=set([40, 50, 60, 70, 80, 90])\n",
        "\n",
        "#(i)\n",
        "S1.add(55)\n",
        "S1.add(66)\n",
        "print(\"S1 is--> \", S1)\n",
        "\n",
        "#(ii)\n",
        "S1.remove(10)\n",
        "S1.remove(30)\n",
        "print(\"S1 is--> \", S1)\n",
        "\n",
        "#(iii)\n",
        "print(\"is 40 in S1--> \", 40 in S1)\n",
        "\n",
        "#(iv)\n",
        "print(\"union between s1 and s2--> \", S1.union(S2))\n",
        "\n",
        "#(v)\n",
        "print(\"intersection is--> \", S1.intersection(S2))\n",
        "\n",
        "#(vi)\n",
        "print(\"S1-S2--> \", S1-S2)"
      ],
      "metadata": {
        "colab": {
          "base_uri": "https://localhost:8080/"
        },
        "id": "MOtzsm6Qk9BV",
        "outputId": "a3e07b28-9aba-4d88-8981-383da439ac56"
      },
      "execution_count": null,
      "outputs": [
        {
          "output_type": "stream",
          "name": "stdout",
          "text": [
            "S1 is-->  {66, 40, 10, 50, 20, 55, 60, 30}\n",
            "S1 is-->  {66, 40, 50, 20, 55, 60}\n",
            "is 40 in S1-->  True\n",
            "union between s1 and s2-->  {66, 70, 40, 80, 50, 20, 55, 90, 60}\n",
            "intersection is-->  {40, 50, 60}\n",
            "S1-S2-->  {66, 20, 55}\n"
          ]
        }
      ]
    },
    {
      "cell_type": "markdown",
      "source": [
        "Q4. Write the following program."
      ],
      "metadata": {
        "id": "kZZeVsg9mkxo"
      }
    },
    {
      "cell_type": "code",
      "source": [
        "#(i)\n",
        "import string as s\n",
        "import random as r\n",
        "\n",
        "for i in range (0,100):\n",
        "  k=r.randint(6,8)\n",
        "  pwd=r.sample(s.ascii_letters, k)\n",
        "  print(pwd)\n",
        "\n",
        "#(ii)\n",
        "def IsPrime(n):\n",
        "\tfor i in range(2, n//2 + 1):\n",
        "\t\tif n%i==0:\n",
        "\t\t\treturn 0\n",
        "\treturn 1\n",
        "\n",
        "for j in range(600, 800):\n",
        "  if IsPrime(j)==1:\n",
        "    print(j)\n",
        "\n",
        "#(iii)\n",
        "def div(n):\n",
        "  if(n%7==0 and n%9==0):\n",
        "    return 1\n",
        "  return 0\n",
        "\n",
        "for j in range(100, 1000):\n",
        "  if div(j)==1:\n",
        "    print(j)"
      ],
      "metadata": {
        "colab": {
          "base_uri": "https://localhost:8080/"
        },
        "id": "TwyPKnHrof2q",
        "outputId": "5a962fb0-a46c-4d5c-9bfb-4ea460f24d9a"
      },
      "execution_count": null,
      "outputs": [
        {
          "output_type": "stream",
          "name": "stdout",
          "text": [
            "['A', 'y', 'M', 'p', 'I', 'd']\n",
            "['m', 'N', 'B', 'y', 'T', 'A', 'Z']\n",
            "['S', 'N', 'E', 'c', 't', 's', 'q']\n",
            "['N', 'r', 'a', 'B', 'j', 'e', 'O', 'J']\n",
            "['M', 'N', 'e', 'k', 'j', 'H']\n",
            "['i', 'N', 'Q', 'u', 'H', 'o', 'V', 'Z']\n",
            "['M', 'L', 'v', 'o', 'D', 'T', 'Z', 'z']\n",
            "['A', 'J', 'p', 'E', 'Q', 'y', 'L']\n",
            "['s', 'j', 'P', 'g', 'H', 'w']\n",
            "['M', 'a', 'G', 'T', 'i', 'k']\n",
            "['q', 'u', 'D', 'E', 'a', 'r', 'p']\n",
            "['a', 'B', 'f', 'L', 'd', 'N', 'H']\n",
            "['J', 'g', 'E', 'T', 'r', 'R', 'x']\n",
            "['v', 'j', 'E', 'W', 'F', 'n']\n",
            "['l', 'L', 'C', 'V', 'c', 'm', 'U', 'I']\n",
            "['O', 'J', 'H', 'a', 'i', 'N', 'c', 'I']\n",
            "['e', 'I', 'H', 'Y', 'K', 'E', 'M']\n",
            "['w', 'U', 'f', 'O', 'h', 'E', 'T', 'g']\n",
            "['i', 'u', 'w', 'T', 'Z', 'B', 'y']\n",
            "['r', 'n', 'f', 'k', 'w', 'j', 'W']\n",
            "['i', 't', 'W', 'c', 'g', 'Y', 'x', 'E']\n",
            "['d', 'o', 'b', 'y', 'n', 'O', 'w']\n",
            "['f', 'c', 'T', 'L', 'l', 'x', 'n']\n",
            "['P', 'u', 'W', 'j', 'x', 'f', 'L', 's']\n",
            "['n', 'W', 'M', 'U', 'F', 'S']\n",
            "['F', 'O', 'u', 'l', 'V', 'C', 'J']\n",
            "['H', 'v', 'O', 'N', 'l', 'G', 'u', 'L']\n",
            "['X', 'j', 'Q', 'V', 'O', 'N', 'x', 'i']\n",
            "['B', 'W', 'c', 'j', 'i', 'J', 'r', 'x']\n",
            "['k', 'E', 'X', 'Q', 'Y', 'e', 'u']\n",
            "['Y', 'M', 't', 'Q', 'j', 'l', 'R']\n",
            "['y', 'm', 'E', 'J', 'U', 'P', 'f', 'n']\n",
            "['r', 'I', 'u', 'c', 'A', 'Y', 'R']\n",
            "['G', 'a', 'I', 'N', 'R', 'M']\n",
            "['T', 'h', 't', 'o', 'k', 'p', 'C', 'z']\n",
            "['I', 'b', 'B', 'y', 'g', 'G', 'P', 'p']\n",
            "['v', 'z', 'b', 'a', 'M', 'X']\n",
            "['M', 'U', 'E', 'r', 'K', 'h']\n",
            "['B', 'Y', 'q', 'f', 'w', 'l', 'g']\n",
            "['I', 'P', 'D', 'p', 'f', 'A']\n",
            "['i', 'c', 'C', 'B', 'x', 'K', 'J', 'D']\n",
            "['p', 'b', 'U', 'V', 'B', 'j', 'h', 'W']\n",
            "['f', 'Z', 'y', 'H', 'e', 'J', 'i', 'x']\n",
            "['n', 'B', 'l', 'q', 'E', 'k']\n",
            "['s', 't', 'h', 'z', 'P', 'X', 'd', 'J']\n",
            "['Y', 'Q', 'w', 'C', 'N', 'U', 'a', 'M']\n",
            "['f', 'h', 'u', 'F', 'S', 'i', 'g']\n",
            "['J', 'm', 'n', 'X', 'B', 'h', 'U', 'y']\n",
            "['i', 'Z', 'o', 'f', 'w', 'N', 'h', 'd']\n",
            "['c', 'Y', 'L', 'z', 'n', 'l', 'R', 'V']\n",
            "['K', 'v', 'Q', 'a', 'j', 'k', 'J', 'y']\n",
            "['G', 'e', 'M', 'U', 'F', 'c', 'T', 'h']\n",
            "['t', 'w', 'd', 'a', 'A', 'i', 'h']\n",
            "['A', 'Q', 'o', 'T', 'k', 'a']\n",
            "['z', 'a', 'C', 'L', 'F', 'W', 'A']\n",
            "['c', 't', 'x', 'B', 'W', 'z', 'j', 'P']\n",
            "['R', 'u', 'j', 'n', 'M', 'p']\n",
            "['F', 'J', 'P', 'i', 'j', 'm', 'C']\n",
            "['k', 'q', 'H', 'w', 'e', 'P', 'O']\n",
            "['s', 'p', 'P', 'n', 'L', 'H']\n",
            "['X', 'D', 'q', 'o', 'H', 'n']\n",
            "['b', 'r', 'B', 'k', 'Q', 'z', 'd']\n",
            "['y', 'W', 'j', 'a', 'z', 'b']\n",
            "['v', 'C', 'P', 'j', 'e', 'E', 's', 'c']\n",
            "['i', 'D', 'p', 'Y', 'Q', 'q']\n",
            "['W', 'c', 'p', 'I', 'S', 'g', 'H', 'J']\n",
            "['m', 'K', 'e', 'C', 'H', 'a', 'X']\n",
            "['g', 'm', 'W', 'H', 'V', 'z']\n",
            "['E', 'm', 'U', 'b', 'W', 'L', 'P', 'Q']\n",
            "['T', 'w', 'd', 'E', 'X', 'f', 'm', 'r']\n",
            "['S', 'A', 'K', 'H', 'T', 'F', 'j']\n",
            "['n', 'u', 'R', 'r', 'S', 'y']\n",
            "['V', 'T', 'U', 'e', 'Q', 'x', 'I']\n",
            "['G', 'e', 'K', 'Q', 'W', 'T', 'Y', 'x']\n",
            "['L', 'Q', 'X', 'M', 'U', 'g', 'r', 'V']\n",
            "['y', 'F', 'k', 'z', 'e', 'o', 'L', 'G']\n",
            "['t', 'A', 'l', 'Q', 'Z', 'R', 'g', 'c']\n",
            "['y', 'a', 'M', 'A', 'm', 'u', 'L', 'E']\n",
            "['m', 'd', 'l', 'h', 'J', 'V']\n",
            "['w', 'a', 'M', 'R', 'T', 'H', 'p']\n",
            "['y', 'M', 'u', 'h', 'E', 'I', 'Y']\n",
            "['P', 'b', 'u', 'r', 'v', 'C', 'M', 'N']\n",
            "['R', 'F', 'g', 'n', 'q', 'S', 'l', 'U']\n",
            "['x', 'O', 'V', 'P', 'f', 'j']\n",
            "['O', 'd', 'K', 'Q', 'J', 'h', 'l', 'a']\n",
            "['Q', 'd', 'h', 'Y', 'D', 'q', 'B', 'K']\n",
            "['h', 'R', 'W', 'B', 'm', 'r']\n",
            "['N', 'S', 'X', 'e', 'p', 'I']\n",
            "['j', 'X', 'W', 'l', 'a', 's', 'L']\n",
            "['k', 'e', 'R', 'N', 'x', 'T', 'r']\n",
            "['t', 'S', 'g', 'n', 'u', 'a', 'd', 'Q']\n",
            "['m', 'o', 'M', 'u', 'Z', 's', 'a', 'b']\n",
            "['X', 'T', 'b', 'R', 'j', 'q', 'Y', 'e']\n",
            "['R', 'Q', 'k', 'J', 'p', 's', 'M', 'n']\n",
            "['I', 'D', 'N', 'K', 'P', 'k', 'c', 'v']\n",
            "['I', 'e', 'J', 'p', 'F', 'r']\n",
            "['K', 'T', 'R', 'I', 'x', 'h']\n",
            "['v', 'V', 'I', 'Q', 'G', 'L', 'f', 'U']\n",
            "['l', 'n', 'y', 'u', 'G', 'X']\n",
            "['Y', 'F', 'c', 'I', 'r', 'N']\n",
            "601\n",
            "607\n",
            "613\n",
            "617\n",
            "619\n",
            "631\n",
            "641\n",
            "643\n",
            "647\n",
            "653\n",
            "659\n",
            "661\n",
            "673\n",
            "677\n",
            "683\n",
            "691\n",
            "701\n",
            "709\n",
            "719\n",
            "727\n",
            "733\n",
            "739\n",
            "743\n",
            "751\n",
            "757\n",
            "761\n",
            "769\n",
            "773\n",
            "787\n",
            "797\n",
            "126\n",
            "189\n",
            "252\n",
            "315\n",
            "378\n",
            "441\n",
            "504\n",
            "567\n",
            "630\n",
            "693\n",
            "756\n",
            "819\n",
            "882\n",
            "945\n"
          ]
        }
      ]
    },
    {
      "cell_type": "markdown",
      "source": [
        "Q5. WAP to create two lists of 10 random numbers between 10 and 30; Find "
      ],
      "metadata": {
        "id": "Ndjr83OVriDG"
      }
    },
    {
      "cell_type": "code",
      "source": [
        "L1=[0,0,0,0,0,0,0,0,0,0]\n",
        "for i in range(0,10):\n",
        "  L1[i]=r.randint(10,30)\n",
        "print(L1)\n",
        "\n",
        "L2=[0,0,0,0,0,0,0,0,0,0]\n",
        "for i in range(0,10):\n",
        "  L2[i]=r.randint(10,30)\n",
        "print(L2)\n",
        "\n",
        "#(i)\n",
        "i=0\n",
        "j=0\n",
        "for i in range(0,10):\n",
        "  if L1[i] in L2: \n",
        "    print(L1[i])\n",
        "\n",
        "#(ii)\n",
        "for i in range(0,10):\n",
        "  if L1[i] not in L2: \n",
        "    print(L1[i])\n",
        "\n",
        "for i in range(0,10):\n",
        "  if L2[i] not in L1: \n",
        "    print(L2[i])\n",
        "\n",
        "#(iii)\n",
        "print (\"max --> \", max(L1))\n",
        "print (\"max --> \", max(L2))\n",
        "\n",
        "#(iv)\n",
        "print (\"min --> \", min(L1))\n",
        "print (\"min --> \", min(L2))\n",
        "\n",
        "#(v)\n",
        "for i in range(0,10):\n",
        "  L1[i]=L1[i]+L2[i]\n",
        "\n",
        "print (\"sum --> \", L1)"
      ],
      "metadata": {
        "colab": {
          "base_uri": "https://localhost:8080/"
        },
        "id": "Im5hiLYbrnMX",
        "outputId": "8c3dd71b-e106-405f-c6b4-17ce6648250a"
      },
      "execution_count": null,
      "outputs": [
        {
          "output_type": "stream",
          "name": "stdout",
          "text": [
            "[29, 22, 14, 10, 27, 21, 15, 10, 21, 25]\n",
            "[12, 22, 17, 15, 20, 19, 30, 17, 17, 12]\n",
            "22\n",
            "15\n",
            "29\n",
            "14\n",
            "10\n",
            "27\n",
            "21\n",
            "10\n",
            "21\n",
            "25\n",
            "12\n",
            "17\n",
            "20\n",
            "19\n",
            "30\n",
            "17\n",
            "17\n",
            "12\n",
            "max -->  29\n",
            "max -->  30\n",
            "min -->  10\n",
            "min -->  12\n",
            "sum -->  [41, 44, 31, 25, 47, 40, 45, 27, 38, 37]\n"
          ]
        }
      ]
    },
    {
      "cell_type": "markdown",
      "source": [
        " WAP to create a list of 100 random numbers between 100 and 900. Count and print the:"
      ],
      "metadata": {
        "id": "7AoqL0HnxEt-"
      }
    },
    {
      "cell_type": "code",
      "source": [
        "import string as s\n",
        "import random as r\n",
        "L1=[]\n",
        "L2=[]\n",
        "L3=[]\n",
        "for i in range(0,100):\n",
        "  L1.append(r.randint(100,900))\n",
        "\n",
        "for i in range(0,100):\n",
        "  L2.append(r.randint(100,900))\n",
        "\n",
        "L3=L1+L2\n",
        "\n",
        "#(i)\n",
        "for i in range(0,200):\n",
        "  if L3[i]%2!=0:\n",
        "    print(\"odd--> \",L3[i])\n",
        "\n",
        "#(ii)\n",
        "for i in range(0,200):\n",
        "  if L3[i]%2==0:\n",
        "    print(\"even--> \",L3[i])\n",
        "\n",
        "#(iii)\n",
        "\n",
        "def IsPrime(n):\n",
        "\tfor i in range(2, n//2 + 1):\n",
        "\t\tif n%i==0:\n",
        "\t\t\treturn 0\n",
        "\treturn 1\n",
        "\n",
        "for i in range(0,200):\n",
        "  if IsPrime(L3[i])==1:\n",
        "    print(\"prime--> \" ,L3[i])\n"
      ],
      "metadata": {
        "colab": {
          "base_uri": "https://localhost:8080/"
        },
        "id": "GkpeTMznxI_6",
        "outputId": "4f277ee6-7c7b-4c06-c313-e91404afc1fe"
      },
      "execution_count": null,
      "outputs": [
        {
          "output_type": "stream",
          "name": "stdout",
          "text": [
            "odd-->  271\n",
            "odd-->  439\n",
            "odd-->  861\n",
            "odd-->  587\n",
            "odd-->  893\n",
            "odd-->  479\n",
            "odd-->  109\n",
            "odd-->  155\n",
            "odd-->  357\n",
            "odd-->  455\n",
            "odd-->  521\n",
            "odd-->  731\n",
            "odd-->  885\n",
            "odd-->  145\n",
            "odd-->  473\n",
            "odd-->  717\n",
            "odd-->  525\n",
            "odd-->  219\n",
            "odd-->  265\n",
            "odd-->  783\n",
            "odd-->  645\n",
            "odd-->  423\n",
            "odd-->  691\n",
            "odd-->  799\n",
            "odd-->  243\n",
            "odd-->  663\n",
            "odd-->  825\n",
            "odd-->  571\n",
            "odd-->  601\n",
            "odd-->  205\n",
            "odd-->  785\n",
            "odd-->  553\n",
            "odd-->  747\n",
            "odd-->  517\n",
            "odd-->  765\n",
            "odd-->  725\n",
            "odd-->  721\n",
            "odd-->  357\n",
            "odd-->  669\n",
            "odd-->  517\n",
            "odd-->  447\n",
            "odd-->  353\n",
            "odd-->  733\n",
            "odd-->  711\n",
            "odd-->  885\n",
            "odd-->  197\n",
            "odd-->  345\n",
            "odd-->  755\n",
            "odd-->  123\n",
            "odd-->  775\n",
            "odd-->  629\n",
            "odd-->  511\n",
            "odd-->  547\n",
            "odd-->  347\n",
            "odd-->  629\n",
            "odd-->  457\n",
            "odd-->  151\n",
            "odd-->  843\n",
            "odd-->  707\n",
            "odd-->  805\n",
            "odd-->  541\n",
            "odd-->  419\n",
            "odd-->  879\n",
            "odd-->  491\n",
            "odd-->  455\n",
            "odd-->  761\n",
            "odd-->  533\n",
            "odd-->  477\n",
            "odd-->  769\n",
            "odd-->  233\n",
            "odd-->  409\n",
            "odd-->  641\n",
            "odd-->  401\n",
            "odd-->  325\n",
            "odd-->  307\n",
            "odd-->  217\n",
            "odd-->  539\n",
            "odd-->  817\n",
            "odd-->  249\n",
            "odd-->  241\n",
            "odd-->  431\n",
            "odd-->  403\n",
            "odd-->  829\n",
            "odd-->  863\n",
            "odd-->  537\n",
            "odd-->  661\n",
            "odd-->  829\n",
            "odd-->  483\n",
            "odd-->  581\n",
            "odd-->  309\n",
            "odd-->  285\n",
            "odd-->  809\n",
            "odd-->  375\n",
            "odd-->  143\n",
            "odd-->  327\n",
            "even-->  776\n",
            "even-->  246\n",
            "even-->  126\n",
            "even-->  436\n",
            "even-->  156\n",
            "even-->  476\n",
            "even-->  180\n",
            "even-->  222\n",
            "even-->  504\n",
            "even-->  886\n",
            "even-->  610\n",
            "even-->  104\n",
            "even-->  104\n",
            "even-->  360\n",
            "even-->  436\n",
            "even-->  380\n",
            "even-->  418\n",
            "even-->  516\n",
            "even-->  886\n",
            "even-->  412\n",
            "even-->  516\n",
            "even-->  234\n",
            "even-->  540\n",
            "even-->  372\n",
            "even-->  838\n",
            "even-->  186\n",
            "even-->  314\n",
            "even-->  350\n",
            "even-->  594\n",
            "even-->  806\n",
            "even-->  774\n",
            "even-->  410\n",
            "even-->  448\n",
            "even-->  816\n",
            "even-->  688\n",
            "even-->  498\n",
            "even-->  612\n",
            "even-->  570\n",
            "even-->  224\n",
            "even-->  860\n",
            "even-->  144\n",
            "even-->  708\n",
            "even-->  190\n",
            "even-->  132\n",
            "even-->  406\n",
            "even-->  784\n",
            "even-->  386\n",
            "even-->  334\n",
            "even-->  412\n",
            "even-->  728\n",
            "even-->  372\n",
            "even-->  718\n",
            "even-->  560\n",
            "even-->  868\n",
            "even-->  208\n",
            "even-->  312\n",
            "even-->  722\n",
            "even-->  842\n",
            "even-->  812\n",
            "even-->  112\n",
            "even-->  154\n",
            "even-->  390\n",
            "even-->  570\n",
            "even-->  240\n",
            "even-->  782\n",
            "even-->  814\n",
            "even-->  826\n",
            "even-->  772\n",
            "even-->  402\n",
            "even-->  626\n",
            "even-->  496\n",
            "even-->  856\n",
            "even-->  176\n",
            "even-->  820\n",
            "even-->  526\n",
            "even-->  360\n",
            "even-->  460\n",
            "even-->  344\n",
            "even-->  420\n",
            "even-->  604\n",
            "even-->  566\n",
            "even-->  180\n",
            "even-->  772\n",
            "even-->  600\n",
            "even-->  388\n",
            "even-->  868\n",
            "even-->  344\n",
            "even-->  492\n",
            "even-->  548\n",
            "even-->  192\n",
            "even-->  286\n",
            "even-->  416\n",
            "even-->  730\n",
            "even-->  414\n",
            "even-->  332\n",
            "even-->  862\n",
            "even-->  812\n",
            "even-->  342\n",
            "even-->  760\n",
            "even-->  772\n",
            "even-->  126\n",
            "even-->  762\n",
            "even-->  438\n",
            "even-->  388\n",
            "even-->  344\n",
            "prime-->  271\n",
            "prime-->  439\n",
            "prime-->  587\n",
            "prime-->  479\n",
            "prime-->  109\n",
            "prime-->  521\n",
            "prime-->  691\n",
            "prime-->  571\n",
            "prime-->  601\n",
            "prime-->  353\n",
            "prime-->  733\n",
            "prime-->  197\n",
            "prime-->  547\n",
            "prime-->  347\n",
            "prime-->  457\n",
            "prime-->  151\n",
            "prime-->  541\n",
            "prime-->  419\n",
            "prime-->  491\n",
            "prime-->  761\n",
            "prime-->  769\n",
            "prime-->  233\n",
            "prime-->  409\n",
            "prime-->  641\n",
            "prime-->  401\n",
            "prime-->  307\n",
            "prime-->  241\n",
            "prime-->  431\n",
            "prime-->  829\n",
            "prime-->  863\n",
            "prime-->  661\n",
            "prime-->  829\n",
            "prime-->  809\n"
          ]
        }
      ]
    },
    {
      "cell_type": "markdown",
      "source": [
        "D is a dictionary defined as D={1:\"One\",2:\"Two\",3:\"Three\",4:\"Four\", 5:\"Five\"}"
      ],
      "metadata": {
        "id": "QIQQddc1zrSg"
      }
    },
    {
      "cell_type": "code",
      "source": [
        "#(i)\n",
        "D={1:\"One\",2:\"Two\",3:\"Three\",4:\"Four\", 5:\"Five\"}\n",
        "fp=open('sample.txt','w')\n",
        "\n",
        "for k in D: \n",
        "  string1= \" \"+str(k)+ \" , \"+str(D[k])+\"\\n\"\n",
        "  fp.write(string1)\n",
        "fp.close()"
      ],
      "metadata": {
        "id": "6CYvJbnfzwc3"
      },
      "execution_count": null,
      "outputs": []
    },
    {
      "cell_type": "markdown",
      "source": [
        "L is a list defined as L={\"One\",\"Two\",\"Three\",\"Four\",\"Five\"}.\n",
        " WAP to count the length of reach element from a list and write to the file in the given below format:"
      ],
      "metadata": {
        "id": "Jb6yPMBz4qUa"
      }
    },
    {
      "cell_type": "code",
      "source": [
        "L=[\"One\",\"Two\",\"Three\",\"Four\",\"Five\"]\n",
        "fp=open('sample2.txt','w')\n",
        "\n",
        "for k in D: \n",
        "  string1= str(D[k])+\" \"+str(len(D[k]))+\"\\n\"\n",
        "  fp.write(string1)\n",
        "fp.close()"
      ],
      "metadata": {
        "id": "0NXcdp0Y4wtC"
      },
      "execution_count": null,
      "outputs": []
    },
    {
      "cell_type": "markdown",
      "source": [
        "Write to the file 100 random strings whose length between 10 and 15."
      ],
      "metadata": {
        "id": "6T6tKklO6H0D"
      }
    },
    {
      "cell_type": "code",
      "source": [
        "import string as s\n",
        "import random as r\n",
        "\n",
        "fp=open('sample.txt','w')\n",
        "for i in range (0,100):\n",
        "  k=r.randint(10,15)\n",
        "  passwd=r.sample(s.ascii_letters, k)\n",
        "  string1=str(passwd)+\"\\n\"\n",
        "  fp.write(string1)\n",
        "fp.close()"
      ],
      "metadata": {
        "id": "5FfcN91b6Iyt"
      },
      "execution_count": null,
      "outputs": []
    },
    {
      "cell_type": "markdown",
      "source": [
        "Q10. Write to the file all prime numbers between 600 and 800."
      ],
      "metadata": {
        "id": "MGWxjYUf6uEN"
      }
    },
    {
      "cell_type": "code",
      "source": [
        "fp=open('sample.txt','w')\n",
        "def IsPrime(n):\n",
        "\tfor i in range(2, n//2 + 1):\n",
        "\t\tif n%i==0:\n",
        "\t\t\treturn 0\n",
        "\treturn 1\n",
        "\n",
        "for i in range(600,800):\n",
        "  if IsPrime(i)==1:\n",
        "    string1= str(i)+\"\\n\"\n",
        "    fp.write(string1)\n",
        "fp.close()"
      ],
      "metadata": {
        "id": "qhjhfAdj6x63"
      },
      "execution_count": null,
      "outputs": []
    },
    {
      "cell_type": "markdown",
      "source": [
        ". WAP to calculate the time taken by a program."
      ],
      "metadata": {
        "id": "6POqKp-T8ivs"
      }
    },
    {
      "cell_type": "code",
      "source": [
        "import time\n",
        "start = time.time()\n",
        "for i in range(10):\n",
        "    print(i)\n",
        "time.sleep(1)\n",
        "end = time.time()\n",
        "\n",
        "print(f\"Runtime of the program is {end - start}\")"
      ],
      "metadata": {
        "colab": {
          "base_uri": "https://localhost:8080/"
        },
        "id": "Q0R8C1DY9Ln9",
        "outputId": "f693277e-871c-4d13-99c3-3fb104b1f562"
      },
      "execution_count": null,
      "outputs": [
        {
          "output_type": "stream",
          "name": "stdout",
          "text": [
            "0\n",
            "1\n",
            "2\n",
            "3\n",
            "4\n",
            "5\n",
            "6\n",
            "7\n",
            "8\n",
            "9\n",
            "Runtime of the program is 1.0029575824737549\n"
          ]
        }
      ]
    },
    {
      "cell_type": "markdown",
      "source": [
        "WAP to create a dictionary of student marks in five subjects and you have to find the student \n",
        " having maximum and minimum average marks."
      ],
      "metadata": {
        "id": "eEgv7krB9qBk"
      }
    },
    {
      "cell_type": "code",
      "source": [
        "students = dict()\n",
        "n = int(input(\"Enter number of students :\"))\n",
        "for i in range(n):\n",
        "        sname = input(\"Enter names of student :\")\n",
        "        marks= []\n",
        "        for j in range(5):\n",
        "           mark = float(input(\"Enter marks :\"))\n",
        "           marks.append(mark)\n",
        "        students[sname] = marks\n",
        "print(\"Dictionary of student created :\")\n",
        "print(students)"
      ],
      "metadata": {
        "colab": {
          "base_uri": "https://localhost:8080/",
          "height": 398
        },
        "id": "qvD5i6Xb9q49",
        "outputId": "a2b52583-875c-4066-8f7c-ef471e2fc6dd"
      },
      "execution_count": null,
      "outputs": [
        {
          "output_type": "error",
          "ename": "KeyboardInterrupt",
          "evalue": "ignored",
          "traceback": [
            "\u001b[0;31m---------------------------------------------------------------------------\u001b[0m",
            "\u001b[0;31mKeyboardInterrupt\u001b[0m                         Traceback (most recent call last)",
            "\u001b[0;32m<ipython-input-204-ca9c8837acef>\u001b[0m in \u001b[0;36m<cell line: 2>\u001b[0;34m()\u001b[0m\n\u001b[1;32m      1\u001b[0m \u001b[0mstudents\u001b[0m \u001b[0;34m=\u001b[0m \u001b[0mdict\u001b[0m\u001b[0;34m(\u001b[0m\u001b[0;34m)\u001b[0m\u001b[0;34m\u001b[0m\u001b[0;34m\u001b[0m\u001b[0m\n\u001b[0;32m----> 2\u001b[0;31m \u001b[0mn\u001b[0m \u001b[0;34m=\u001b[0m \u001b[0mint\u001b[0m\u001b[0;34m(\u001b[0m\u001b[0minput\u001b[0m\u001b[0;34m(\u001b[0m\u001b[0;34m\"Enter number of students :\"\u001b[0m\u001b[0;34m)\u001b[0m\u001b[0;34m)\u001b[0m\u001b[0;34m\u001b[0m\u001b[0;34m\u001b[0m\u001b[0m\n\u001b[0m\u001b[1;32m      3\u001b[0m \u001b[0;32mfor\u001b[0m \u001b[0mi\u001b[0m \u001b[0;32min\u001b[0m \u001b[0mrange\u001b[0m\u001b[0;34m(\u001b[0m\u001b[0mn\u001b[0m\u001b[0;34m)\u001b[0m\u001b[0;34m:\u001b[0m\u001b[0;34m\u001b[0m\u001b[0;34m\u001b[0m\u001b[0m\n\u001b[1;32m      4\u001b[0m         \u001b[0msname\u001b[0m \u001b[0;34m=\u001b[0m \u001b[0minput\u001b[0m\u001b[0;34m(\u001b[0m\u001b[0;34m\"Enter names of student :\"\u001b[0m\u001b[0;34m)\u001b[0m\u001b[0;34m\u001b[0m\u001b[0;34m\u001b[0m\u001b[0m\n\u001b[1;32m      5\u001b[0m         \u001b[0mmarks\u001b[0m\u001b[0;34m=\u001b[0m \u001b[0;34m[\u001b[0m\u001b[0;34m]\u001b[0m\u001b[0;34m\u001b[0m\u001b[0;34m\u001b[0m\u001b[0m\n",
            "\u001b[0;32m/usr/local/lib/python3.10/dist-packages/ipykernel/kernelbase.py\u001b[0m in \u001b[0;36mraw_input\u001b[0;34m(self, prompt)\u001b[0m\n\u001b[1;32m    849\u001b[0m                 \u001b[0;34m\"raw_input was called, but this frontend does not support input requests.\"\u001b[0m\u001b[0;34m\u001b[0m\u001b[0;34m\u001b[0m\u001b[0m\n\u001b[1;32m    850\u001b[0m             )\n\u001b[0;32m--> 851\u001b[0;31m         return self._input_request(str(prompt),\n\u001b[0m\u001b[1;32m    852\u001b[0m             \u001b[0mself\u001b[0m\u001b[0;34m.\u001b[0m\u001b[0m_parent_ident\u001b[0m\u001b[0;34m,\u001b[0m\u001b[0;34m\u001b[0m\u001b[0;34m\u001b[0m\u001b[0m\n\u001b[1;32m    853\u001b[0m             \u001b[0mself\u001b[0m\u001b[0;34m.\u001b[0m\u001b[0m_parent_header\u001b[0m\u001b[0;34m,\u001b[0m\u001b[0;34m\u001b[0m\u001b[0;34m\u001b[0m\u001b[0m\n",
            "\u001b[0;32m/usr/local/lib/python3.10/dist-packages/ipykernel/kernelbase.py\u001b[0m in \u001b[0;36m_input_request\u001b[0;34m(self, prompt, ident, parent, password)\u001b[0m\n\u001b[1;32m    893\u001b[0m             \u001b[0;32mexcept\u001b[0m \u001b[0mKeyboardInterrupt\u001b[0m\u001b[0;34m:\u001b[0m\u001b[0;34m\u001b[0m\u001b[0;34m\u001b[0m\u001b[0m\n\u001b[1;32m    894\u001b[0m                 \u001b[0;31m# re-raise KeyboardInterrupt, to truncate traceback\u001b[0m\u001b[0;34m\u001b[0m\u001b[0;34m\u001b[0m\u001b[0m\n\u001b[0;32m--> 895\u001b[0;31m                 \u001b[0;32mraise\u001b[0m \u001b[0mKeyboardInterrupt\u001b[0m\u001b[0;34m(\u001b[0m\u001b[0;34m\"Interrupted by user\"\u001b[0m\u001b[0;34m)\u001b[0m \u001b[0;32mfrom\u001b[0m \u001b[0;32mNone\u001b[0m\u001b[0;34m\u001b[0m\u001b[0;34m\u001b[0m\u001b[0m\n\u001b[0m\u001b[1;32m    896\u001b[0m             \u001b[0;32mexcept\u001b[0m \u001b[0mException\u001b[0m \u001b[0;32mas\u001b[0m \u001b[0me\u001b[0m\u001b[0;34m:\u001b[0m\u001b[0;34m\u001b[0m\u001b[0;34m\u001b[0m\u001b[0m\n\u001b[1;32m    897\u001b[0m                 \u001b[0mself\u001b[0m\u001b[0;34m.\u001b[0m\u001b[0mlog\u001b[0m\u001b[0;34m.\u001b[0m\u001b[0mwarning\u001b[0m\u001b[0;34m(\u001b[0m\u001b[0;34m\"Invalid Message:\"\u001b[0m\u001b[0;34m,\u001b[0m \u001b[0mexc_info\u001b[0m\u001b[0;34m=\u001b[0m\u001b[0;32mTrue\u001b[0m\u001b[0;34m)\u001b[0m\u001b[0;34m\u001b[0m\u001b[0;34m\u001b[0m\u001b[0m\n",
            "\u001b[0;31mKeyboardInterrupt\u001b[0m: Interrupted by user"
          ]
        }
      ]
    }
  ]
}